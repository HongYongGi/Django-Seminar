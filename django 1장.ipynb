{
 "cells": [
  {
   "cell_type": "markdown",
   "metadata": {},
   "source": [
    "## Django 1장\n"
   ]
  },
  {
   "cell_type": "markdown",
   "metadata": {},
   "source": [
    "웹 프로그램은 기본적으로 **클라이언트 - 서버**로 이루어집니다.\n",
    "\n",
    "웹 프로그램의 기본\n",
    "* **웹 클라이언트와 웹 서버**\n",
    "* 통신 규약인 **HTTP 프로토콜**\n",
    "* 주고받는 메시지 중에서 가장 중요한 **URL**\n",
    "* 혼동하기 쉬운 **웹 서버**와 **웹 어플리케이션 서버** 간의 차이점과 특징"
   ]
  },
  {
   "cell_type": "markdown",
   "metadata": {},
   "source": [
    "## 1.1 웹 프로그래밍이란?"
   ]
  },
  {
   "cell_type": "markdown",
   "metadata": {},
   "source": [
    "* HTTP 프로토콜로 통신하는, **클라이언트와 서버**를 개발하는 것입니다. \n",
    "\n",
    "* 보통은 웹 서버를 개발하는 경우가 많아서 파이썬 웹 프로그래밍이라고 하면 우선적으로 **Django**와 같은 웹 프레임워크를 사용하여 웹 서버를 개발하는 것을 떠올립니다."
   ]
  },
  {
   "cell_type": "markdown",
   "metadata": {},
   "source": [
    "![1](https://user-images.githubusercontent.com/39263586/67697699-4ebb3300-f9ec-11e9-8fbc-8f8ccb95599d.PNG)\n"
   ]
  },
  {
   "cell_type": "markdown",
   "metadata": {},
   "source": [
    "* Internet Explorer, Chrome, Firefox와 같은 웹 브라우저는 이미 웹 클라이언트로 개발되어 있기 때문에 웹 프레임워크를 활용하여 웹 서버를 개발하는 것이 전부가 아니다. \n",
    "\n",
    "* 웹 클라이언트를 개발하는 상황도 많이 발생한다."
   ]
  },
  {
   "cell_type": "markdown",
   "metadata": {},
   "source": [
    "웹 브라우저 이외에도 웹 서버에 요청을 보내는 웹 클라이언트는 다양하게 만들 수 있는데, 다음과 같이 4가지가 있다.\n",
    "\n",
    "1. 웹 브라우저를 사용하여 요청\n",
    "2. 리눅스 curl명령어를 사용하여 요청\n",
    "3. Telnet을 사용하여 요청\n",
    "4. 직접 만든 클라이언트로 요청"
   ]
  },
  {
   "cell_type": "markdown",
   "metadata": {},
   "source": [
    " "
   ]
  },
  {
   "cell_type": "markdown",
   "metadata": {},
   "source": [
    "## 1.2 다양한 웹 클라이언트"
   ]
  },
  {
   "cell_type": "markdown",
   "metadata": {},
   "source": [
    "### 1.2.1 웹 브라우저를 사용하여 요청\n",
    "    "
   ]
  },
  {
   "cell_type": "markdown",
   "metadata": {},
   "source": [
    "![2](https://user-images.githubusercontent.com/39263586/67698244-59c29300-f9ed-11e9-8d50-937cadc4507b.PNG)\n"
   ]
  },
  {
   "cell_type": "markdown",
   "metadata": {},
   "source": [
    "위의 그림과 같이 웹 브라우저를 열고 주소창에 접속하고자 하는 웹 서버의 URL, www.example.com 을 입력한다. \n",
    "\n",
    "\n",
    "그러면 웹 브라우저는 주소창에 입력된 문장을 해석하여 웹 서버에 HTTP요청을 보내는 웹 클라이언트 역할을 수행한다.\n",
    "\n",
    "\n",
    "요청을 받은 www.example.com 도메인의 웹 서버는 그 결과를 웹 브라우저로 전송해준다. \n",
    "\n",
    "\n",
    "\n",
    "웹 브라우저는 전달받은 결과를 사용자가 볼 수 있도록 HTML 텍스트로 해석하여 화면에 보여준다. "
   ]
  },
  {
   "cell_type": "markdown",
   "metadata": {},
   "source": [
    "### 1.2.2 리눅스 curl 명령을 사용하여 요청"
   ]
  },
  {
   "cell_type": "markdown",
   "metadata": {},
   "source": [
    "리눅스 **curl** 명령은 HTTP/HTTPS/FTP 등 여러 가지의 프로토콜을 사용하여 데이터를 송수신할 수 있는 명령입니다.\n",
    "\n",
    "쉘 프롬프트에 ** curl** 명령을 입력합니다.\n",
    "\n",
    "$ curl http://www.example.com\n",
    "\n",
    "\n"
   ]
  },
  {
   "cell_type": "markdown",
   "metadata": {},
   "source": [
    "**curl** 명령은 인자로 넘어온 URL로 HTTP 요청을 보내는 웹 클라이언트의 역할을 수행한다. \n",
    "\n",
    "이 요청을 받은 www.example.com 도메인의 웹 서버는 그 결과를 응답한다. "
   ]
  },
  {
   "cell_type": "markdown",
   "metadata": {},
   "source": [
    "![3](https://user-images.githubusercontent.com/39263586/67698852-757a6900-f9ee-11e9-938c-4fad535acdd1.PNG)\n"
   ]
  },
  {
   "cell_type": "markdown",
   "metadata": {},
   "source": [
    "HTML 태그들과 <head> 부분이 더 보이지만 이는 동일한 응답이다. \n",
    "    \n",
    "    \n",
    "즉, 어떤 방법을 사용하는지와 상관없이 웹 서버는 동일한 요청을 받을 경우 동일한 응답을 준다. "
   ]
  },
  {
   "cell_type": "markdown",
   "metadata": {},
   "source": [
    "### 1.2.3 Telnet을 사용하여 요청"
   ]
  },
  {
   "cell_type": "markdown",
   "metadata": {},
   "source": [
    "리눅스의 **telnet** 프로그램을 사용하여 HTTP 요청을 보낼 수도 있다. "
   ]
  },
  {
   "cell_type": "markdown",
   "metadata": {},
   "source": [
    "\n",
    "![4](https://user-images.githubusercontent.com/39263586/67699098-eb7ed000-f9ee-11e9-8cdb-e8a05661c72a.PNG)\n"
   ]
  },
  {
   "cell_type": "markdown",
   "metadata": {},
   "source": [
    "결과 "
   ]
  },
  {
   "cell_type": "markdown",
   "metadata": {},
   "source": [
    "![5](https://user-images.githubusercontent.com/39263586/67699187-0ea97f80-f9ef-11e9-8eec-7b3123622a61.PNG)\n",
    "![6](https://user-images.githubusercontent.com/39263586/67699190-0fdaac80-f9ef-11e9-8606-2a684bf0efdc.PNG)\n"
   ]
  },
  {
   "cell_type": "markdown",
   "metadata": {},
   "source": [
    "### 1.2.4 직접 만든 클라이언트로 요청"
   ]
  },
  {
   "cell_type": "markdown",
   "metadata": {},
   "source": [
    "example.py 프로그램이 웹 클라이언트가 됩니다. \n",
    "\n",
    "\n",
    "파이썬 라이브러리를 이용해서 2줄로 웹 서버에 HTTP 요청을 보내는 웹 클라이언트를 만들었습니다. "
   ]
  },
  {
   "cell_type": "markdown",
   "metadata": {},
   "source": [
    "![2](https://user-images.githubusercontent.com/39263586/67700053-92b03700-f9f0-11e9-97b2-7ca07d9b9edc.PNG)"
   ]
  },
  {
   "cell_type": "markdown",
   "metadata": {},
   "source": [
    "앞에서 보았던 응답 결과와 동일하다. \n",
    "\n",
    "즉, 웹 클라이언트의 형태는 달라도 동일한 요청에 대해서 동일한 응답을 받는 것을 확인\n",
    "\n",
    "\n",
    "반드시 웹 브라우저가 아니더라도 웹 클라이언트의 요청을 보낼 수 있다는 것을 확인하였다."
   ]
  },
  {
   "cell_type": "markdown",
   "metadata": {},
   "source": [
    "![1](https://user-images.githubusercontent.com/39263586/67700033-8926cf00-f9f0-11e9-95f4-9bb30e147d2d.PNG)\n"
   ]
  },
  {
   "cell_type": "markdown",
   "metadata": {},
   "source": [
    "## 1.3 HTTP "
   ]
  },
  {
   "cell_type": "markdown",
   "metadata": {},
   "source": [
    "* HTTP(Hypertext Transfer Protocol)은 웹 서버와 웹 클라이언트 사이에서 데이터를 주고받기 위해 사용하는 통신 방식\n",
    "\n",
    "* TCP/IP 프로토콜 위에서 동작한다.\n",
    "(웹을 이용하려면 웹 서버와 웹 클라이언트는 각각 TCP/IP 동작에 필수적인 IP 주소를 가져야 된다는 의미)\n",
    "\n",
    "\n",
    "* HTML, XML과 같은 하이퍼텍스트 뿐만 아니라 이미지, 음성, 동영상, 자바스크립트, PDF와 각종 오피스 파일 등 데이터라면 무엇이든 전송할 수 있다"
   ]
  },
  {
   "cell_type": "markdown",
   "metadata": {},
   "source": [
    "### 1.3.1 HTTP 메시지의 구조 "
   ]
  },
  {
   "cell_type": "markdown",
   "metadata": {},
   "source": [
    "* HTTP 메시지\n",
    "    * 클라이언트에서 서버로 보내는 요청 메시지\n",
    "    * 서버에서 클라이언트로 보내는 응답 메시지 \n",
    "    \n",
    "구조는 다음과 같다\n"
   ]
  },
  {
   "cell_type": "markdown",
   "metadata": {},
   "source": [
    "\n",
    "![3](https://user-images.githubusercontent.com/39263586/67700725-d3f51680-f9f1-11e9-9f88-bb5bf768bee5.PNG)\n",
    "\n"
   ]
  },
  {
   "cell_type": "markdown",
   "metadata": {},
   "source": [
    "* 스타트라인은 요청 메시지일 때 요청라인(request line)이라고 하고, 응답 메시지 일 때 상태라인(statur line)이라고 합니다. \n",
    "\n",
    "* 헤더는 각 행의 끝에 줄 바꿈 문자인 CRLF(Carriage Return Line Feed)가 있으며, 헤더와 바디는 빈 줄로 구분 합니다. \n",
    "\n",
    "* 헤더와 바디는 생략할 수 있고, 바디에는 텍스트뿐만 아니라 바이너리 데이터도 들어갈 수 있습니다. "
   ]
  },
  {
   "cell_type": "markdown",
   "metadata": {},
   "source": [
    "* Start Line\n",
    "\n",
    "* Header\n",
    "\n",
    "* Blank Line\n",
    "\n",
    "* Body\n",
    "\n",
    "    * GET /book/shakespeare HTTP/1.1\n",
    "      HOST: www.exaple.com:8080\n",
    "\n",
    "        *  첫 줄 : 요청라인 -> 요청 URL, 프로토콜 버전으로 구성\n",
    "        * 두번째 줄 : 헤더, 이름: 값 형식으로 표현, 여러줄 가능\n",
    "        \n",
    "    * HTTP/1.1 200 OK Content-Type: application/xhtml+xml; charset=utf-8 ... 응답 메세지의 예시\n",
    "\n",
    "        *  첫줄 상태라인 : 프로토콜 버전, 상태 코드, 상태 텍스트로 구성 처리 결과를 상태라인에 표시 -> 200OK"
   ]
  },
  {
   "cell_type": "markdown",
   "metadata": {},
   "source": [
    "### 1.3.2 HTTP 처리 방식"
   ]
  },
  {
   "cell_type": "markdown",
   "metadata": {},
   "source": [
    "메소드 종류\n",
    "* GET : 리소스 취득, READ\n",
    "    * 이미지, 동영상, 웹 페이지 등 가져오려할때 많이 사용\n",
    "    \n",
    "* POST : 리소스 생성, 리소스 데이터 추가, Create\n",
    "    * 블로그 글 등록같은것들에 활용\n",
    "\n",
    "* PUT : 리소스 변경, Update(변경)\n",
    "    * URL 결정권이 클라이언트에 있을때 사용.\n",
    "\n",
    "* DELETE : 리소스 삭제, delate\n",
    "    * 삭제\n",
    "    \n",
    "* HEAD : 리소스의 헤더 취득\n",
    "\n",
    "* OPTIONS : 리소스가 서포트하는 메소드 취득\n",
    "\n",
    "* TRACE : 루프백 시험에 사용\n",
    "\n",
    "* CONNECT : 프록시 동작의 터널 접속으로 변경\n"
   ]
  },
  {
   "cell_type": "markdown",
   "metadata": {},
   "source": [
    "## 1.4 URL 설계"
   ]
  },
  {
   "cell_type": "markdown",
   "metadata": {},
   "source": [
    "**http://www.example.com:80/services?category=2&kind=patents#n10**\n",
    "\n",
    "* http:// - URL 스킴 : URL에 사용된 프로토콜\n",
    "\n",
    "* www.example.com - 호스트명 : 웹 서버의 호스트명으로, 도메인명 또는 IP 주소로 표현\n",
    "\n",
    "* :80 - 포트번호/ : 웹 서버 내의 서비스 포트번호. 생략 시에는 디폴트 포트번호로, http는 80을, https는 443을 사용\n",
    "\n",
    "* services? - 경로 : 파일이나 애플리케이션 경로를 의미\n",
    "\n",
    "* category=2&kind=patents# - 쿼리스트링 : 질의 문자열로, 앰퍼샌드(&)로 구분된 이름=값 쌍 형식으로 표현\n",
    "\n",
    "* n10 - 프라그먼트 : 문서 내의 앵커 등 조각을 지정"
   ]
  },
  {
   "cell_type": "markdown",
   "metadata": {},
   "source": [
    "### 1.4.1 URL을 바라보는 측면 \n",
    "\n",
    "1. RPC(Remote Procedure Call)\n",
    "    * RPC란 클라이언트가 네트워크상에서 원격에 있는 서버가 제공하는 API 함수를 호출하는 방식입니다.\n",
    "    \n",
    "2. REST(Representational State Transfer)\n",
    "    * 웹 서버에 존재하는 요소들을 모두 리소스라 정의, URL을 통해 웹 서버의 특정 리소스를 표현한다는 개념.\n",
    "\n"
   ]
  },
  {
   "cell_type": "markdown",
   "metadata": {},
   "source": [
    "### 1.4.2 간편 URL\n",
    "\n",
    "* 간편 URL은 쿼리스트링 없이 경로만 가진 간단한 구조의 URL을 말함.\n",
    "\n"
   ]
  },
  {
   "cell_type": "markdown",
   "metadata": {},
   "source": [
    "![1](https://user-images.githubusercontent.com/39263586/67703799-60ee9e80-f9f7-11e9-943f-9a335ed77992.PNG)\n"
   ]
  },
  {
   "cell_type": "markdown",
   "metadata": {},
   "source": [
    "### 1.4.3 파이썬의 우아한 URL\n",
    "\n",
    "django에서 사용하는 URL의 표현 방식입니다.\n",
    "\n",
    "URL을 정의하기 위해 정규표현식을 추가적으로 사용할 수 있습니다. "
   ]
  },
  {
   "cell_type": "markdown",
   "metadata": {},
   "source": [
    "![1](https://user-images.githubusercontent.com/39263586/67704035-bcb92780-f9f7-11e9-869c-ec38885d0add.PNG)\n"
   ]
  },
  {
   "cell_type": "markdown",
   "metadata": {},
   "source": [
    "## 1.5 웹 애플리케이션 서버"
   ]
  },
  {
   "cell_type": "markdown",
   "metadata": {},
   "source": [
    "웹 클라이언트의 요청을 받아서 처리하는 서버를 통칭하여 웹 서버라고 부르기도 하지만, 좀 더 세분화 하면 **웹 서버**와 **웹 애플리케이션 서버**로 분류할 수 있다."
   ]
  },
  {
   "cell_type": "markdown",
   "metadata": {},
   "source": [
    "![1](https://user-images.githubusercontent.com/39263586/67704309-32bd8e80-f9f8-11e9-981f-9f4ea18d6a85.PNG)\n",
    "![2](https://user-images.githubusercontent.com/39263586/67704315-33eebb80-f9f8-11e9-85ea-1318140442f5.PNG)\n"
   ]
  },
  {
   "cell_type": "markdown",
   "metadata": {},
   "source": [
    "위의 표를 이해하기 위해서는 기술의 발전 과정을 알아볼 필요가 있다."
   ]
  },
  {
   "cell_type": "markdown",
   "metadata": {},
   "source": [
    "![1](https://user-images.githubusercontent.com/39263586/67704400-64365a00-f9f8-11e9-929b-eb9d7fdaee02.PNG)\n"
   ]
  },
  {
   "cell_type": "markdown",
   "metadata": {},
   "source": [
    "위의 그림을 참고해서 CGI부터 알아보자"
   ]
  },
  {
   "cell_type": "markdown",
   "metadata": {},
   "source": [
    "### 1.5.1 정적 페이지 vs 동적 페이지"
   ]
  },
  {
   "cell_type": "markdown",
   "metadata": {},
   "source": [
    "* 정적 페이지란 누가, 언제 요구하더라도 항상 같은 내용을 표시하는 웹 페이지를 말한다. \n",
    "\n",
    "\n",
    "* 동적 페이지란 동일한 리소스의 요청이라도 누가, 언제, 어떻게 요구했는지에 따라 가각 다른 내용이 반환되는 페이지를 말한다. \n",
    "    * ex) 현재 시각을 보여주는 페이지, 온라인 쇼핑 사이트에서 사용자마다 다른 카트 내용을 보여주는 페이지"
   ]
  },
  {
   "cell_type": "markdown",
   "metadata": {},
   "source": [
    "* 정적, 동적 이란 용어는 사용자가 페이지를 요청하는 시점에 페이지의 내용이 유지되는가 또는 변경되는가를 구분해주는 용어이다."
   ]
  },
  {
   "cell_type": "markdown",
   "metadata": {},
   "source": [
    "* 초창기 웹이 출현했을 때는 정적인 페이지만을 필요로 했으나, 시간이 지남에 따라 점차 동적 페이지에 대한 요구사항이 생기고, 필요한 데이터를 저장하고 꺼내오는 등의 데이터베이스 처리에 대한 요구가 많아짐에 따라 웹 서버와는 다른 별도의 프로그램이 필요하게 되었습니다. \n",
    "\n",
    "\n",
    "* 이러한 별도의 프로그램과 웹 서버 사이에 정보를 주고받는 규칙을 정의한 것이 바로 CGI(Common Gateway Interface) 규격입니다."
   ]
  },
  {
   "cell_type": "markdown",
   "metadata": {},
   "source": [
    "### 1.5.2 CGI 방식의 단점"
   ]
  },
  {
   "cell_type": "markdown",
   "metadata": {},
   "source": [
    "![1](https://user-images.githubusercontent.com/39263586/67704896-51705500-f9f9-11e9-8f0a-e5626c5de041.PNG)\n"
   ]
  },
  {
   "cell_type": "markdown",
   "metadata": {},
   "source": [
    "* CGI 방식의 근본적인 문제점은 각각의 클라이언트 요청에 대하여 독립적인 별도의 프로세스가 생성된다는 것입니다. \n",
    "\n",
    "* 요청이 많아질수록 프로세스가 많아지고, 프로세스가 많아질수록 비례적으로 프로세스가 점유하는 메모리 요구량도 커져서 시스템에 많은 부하를 줬습니다. "
   ]
  },
  {
   "cell_type": "markdown",
   "metadata": {},
   "source": [
    "### 1.5.3 CGI 방식의 대안 기술 \n",
    "\n",
    "* 별도의 애플리케이션(CGI 프로그램과 같은 역할을 하는 프로그램)을 Perl, PHP등의 스크립트 언어로 작성하고, 스크립트를 처리하는 스크립트 엔진을 웹 서버에 내장시켜서 CGI 방식의 단점이었던 별도의 프로세스를 기동시키는 오버헤드를 줄이는 방식입니다.\n",
    "\n",
    "\n",
    "\n",
    "* 애플리케이션을 처리하는 프로세스를 미리 데몬으로 기동시켜 놓은 후, 웹 서버의 요청을 데몬에서 처리하는 것입니다. 이 또한 프로세스 생성 부하를 줄일 수 있는 방법입니다. "
   ]
  },
  {
   "cell_type": "markdown",
   "metadata": {},
   "source": [
    "### 1.5.4 애플리케이션 서버 방식\n",
    "\n",
    "\n",
    "* 애플리케이션 서버 방식은 웹 서버가 직접 프로그램을 호출하기보다는 웹 애플리케이션 서버를 통해서 간접적으로 웹 애플리케이션 프로그램을 실행합니다. \n",
    "\n",
    "\n",
    "\n",
    "* 웹 애플리케이션 서버는 애플리케이션 프로그램의 실행 결과를 웹 서버에 전달해주며, 웹 서버는 웹 애플리케이션 서버로부터 전달받은 응답 결과를 웹 클라이언트에 전송합니다."
   ]
  },
  {
   "cell_type": "markdown",
   "metadata": {},
   "source": [
    "![1](https://user-images.githubusercontent.com/39263586/67705393-436f0400-f9fa-11e9-9c8c-09b6edbd259d.PNG)\n"
   ]
  },
  {
   "cell_type": "markdown",
   "metadata": {},
   "source": [
    "서버 간 구성도는 다음과 같습니다."
   ]
  },
  {
   "cell_type": "markdown",
   "metadata": {},
   "source": [
    "![2](https://user-images.githubusercontent.com/39263586/67705451-5bdf1e80-f9fa-11e9-84b6-a9a5ac855c25.PNG)\n"
   ]
  },
  {
   "cell_type": "markdown",
   "metadata": {},
   "source": [
    "* 웹 서버와 웹 애플리케이션 서버가 분리됨에 따라, 서로의 역할도 구분하여 사용하면 좋습니다. \n",
    "\n",
    "* 정적 페이지 처리에 특화된 웹 서버는 정적 페이지만 처리하고, 웹 애플리케이션 서버는 동적 페이지만 처리하도록 역할을 분담하는 것이 효율적입니다.\n",
    "\n",
    "\n"
   ]
  },
  {
   "cell_type": "markdown",
   "metadata": {},
   "source": [
    "### 1.5.5 웹 서버와의 역할 구분\n",
    "\n",
    "\n",
    "\n",
    "* 웹 서버 및 웹 애플리케이션 서버라는 용어를 사용했는데, 이는 SW 측면의 서버 프로그램을 의미합니다. 이들을 HW 측면의 용어를 의미할 때도 있는데 웹 서버 박스 및 웹 애플리케이션 서버 박스라는 용어를 사용하겠습니다.\n",
    "\n",
    "\n",
    "\n"
   ]
  },
  {
   "cell_type": "markdown",
   "metadata": {},
   "source": [
    "![1](https://user-images.githubusercontent.com/39263586/67705748-f0498100-f9fa-11e9-8e6f-cd81816036e7.PNG)\n"
   ]
  },
  {
   "cell_type": "markdown",
   "metadata": {},
   "source": [
    "* 거의 모든 웹 사이트가 정적 페이지와 동적 페이지를 같이 제공하는 환경에서 웹 서버 또는 웹 애플리케이션 서버 하나만으로 서비스하는 것은 매우 비효율적입니다.\n",
    "\n",
    "\n",
    "* 따라서 웹 서버와 웹 애플리케이션 서버 프로그램이 함께 필요하며, 이 두 개의 서버를 동일한 HW 박스에서 기동시키는 것도 충분한 구성입니다. (서비스 운용 관리 측면에서 하나의 HW 박스에 구성하는 것이 좀 더 간편한 방식이기 때문입니다)\n",
    "\n",
    "\n",
    "\n",
    "* HW 박스를 분리하여 구성하면 메모리 효율을 더욱 더 높일 수 있습니다. 정적 페이지를 처리하는 웹 서버 박스와 동적 페이지를 처리하는 웹 애플리케이션 서버 박스 간의 메모리 사이즈 비율을 조절할 수 있기 때문입니다. \n",
    "\n"
   ]
  },
  {
   "cell_type": "code",
   "execution_count": null,
   "metadata": {},
   "outputs": [],
   "source": []
  }
 ],
 "metadata": {
  "kernelspec": {
   "display_name": "Python 3",
   "language": "python",
   "name": "python3"
  },
  "language_info": {
   "codemirror_mode": {
    "name": "ipython",
    "version": 3
   },
   "file_extension": ".py",
   "mimetype": "text/x-python",
   "name": "python",
   "nbconvert_exporter": "python",
   "pygments_lexer": "ipython3",
   "version": "3.7.3"
  }
 },
 "nbformat": 4,
 "nbformat_minor": 4
}
