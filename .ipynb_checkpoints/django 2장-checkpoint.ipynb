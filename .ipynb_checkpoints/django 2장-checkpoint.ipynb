{
 "cells": [
  {
   "cell_type": "markdown",
   "metadata": {},
   "source": [
    "# Ch2. 파이썬 웹 표준 라이브러리"
   ]
  },
  {
   "cell_type": "markdown",
   "metadata": {},
   "source": [
    "* 파이썬 웹 라이브러리의 전체적인 구성 및 버전 2.x 와 3.x 를 비교하여 달라진 점에 대해 설명\n",
    "\n",
    "\n",
    "* 라이브러리 기능에 따른 웹 클라이언트 라이브러리와 웹 서버 라이브러리 소개 \n",
    "\n",
    "\n",
    "* 상용 웹 서버와의 연동에 필요한 WSGI 서버에 대해 설명"
   ]
  },
  {
   "cell_type": "markdown",
   "metadata": {},
   "source": [
    "## 2.1 웹 라이브러리 구성"
   ]
  },
  {
   "cell_type": "markdown",
   "metadata": {},
   "source": [
    " "
   ]
  },
  {
   "cell_type": "markdown",
   "metadata": {},
   "source": [
    "![1](https://user-images.githubusercontent.com/39263586/68113295-d4803680-ff36-11e9-9c1b-eb8fcfc208ea.JPG)\n"
   ]
  },
  {
   "cell_type": "markdown",
   "metadata": {},
   "source": [
    "* urllib 패키지에 윀 클라이언트를 작성하는 데 사용되는 모듈\n",
    "\n",
    "\n",
    "* http 패키지는 크게 서버용과 클라이언트용 라이브러리로 나누어 모듈을 담고 있음\n",
    "\n",
    "\n",
    "* 쿠키 관련 라이브러리도 http 패키지 내에서 서버용과 클라이언트용으로 모듈이 구분 되어 있다.\n",
    "\n",
    "\n",
    "\n",
    "\n",
    "1.  웹 클라이언트를 개발하는 경우 주로 urllib 패키지를 사용\n",
    "\n",
    "\n",
    "\n",
    "    * http client 모듈은 HTTP 프로토콜 처리와 관련된 저수준의 클라이언트 기능을 제공\n",
    "    * urllib 패키지의 모듈들은 HTTP 서버 뿐만 아니라 FTP 서버 및 로컬 파일 등을 처리하는데, 클라이언트에서 공통적으로 필요한 함수와 클래스를 제공\n",
    "    \n",
    "    \n",
    "    \n",
    "2. 웹 서버 프로그래밍은 http.cookie 모듈이나 http.server 모듈은 거의 사용하지 않는다\n",
    "    * 웹 서버 프로그래밍이란 보통 웹 서버에서 돌아가는 애플리케이션을 개발하는 것\n",
    "    * 장고와 같은 웹 프레임 워크를 사용하여 웹 서버 프로그래밍을 한다.\n",
    "    * 웹 프레임워크는 사용자 프로그램과 저수준의 http.server 라이브러리 중간에 위치하여 웹 서버의 애플리케이션 개발을 좀 더 편리하게 해주면서, 표준 라이브러리의 기능을 확장하는 역할을 함"
   ]
  },
  {
   "cell_type": "markdown",
   "metadata": {},
   "source": [
    "## 2.2 웹 클라이언트 라이브러리"
   ]
  },
  {
   "cell_type": "markdown",
   "metadata": {},
   "source": [
    "* 웹 브라우저 이외에도 웹 서버에 요청을 보내는 애플리케이션은 모두 웹 클라이언트라고 한다. \n",
    "\n",
    "* 웹 클라이언트와 서버 간에 HTTP 프로토콜을 사용하여 통신한다.\n",
    "\n",
    "* 파이썬은 이런 클라이언트를 프로그래밍 할 수 있도록 여러 가지 라이브러리를 제공하고 있다."
   ]
  },
  {
   "cell_type": "markdown",
   "metadata": {},
   "source": [
    "### 2.2.1 urlib.parse 모듈"
   ]
  },
  {
   "cell_type": "markdown",
   "metadata": {},
   "source": [
    "URL의 분해, 조립, 변경 및 URL 문자 인코딩, 디코딩 등을 처리하는 함수를 제공\n",
    "\n",
    "urlparse() 함수는 URL을 파싱한 결과로 **ParseResult** 인스턴스를 반환한다. "
   ]
  },
  {
   "cell_type": "code",
   "execution_count": 3,
   "metadata": {},
   "outputs": [
    {
     "data": {
      "text/plain": [
       "ParseResult(scheme='http', netloc='www.python.org:80', path='/guido/python.html', params='philosophy', query='overall=3', fragment='n10')"
      ]
     },
     "execution_count": 3,
     "metadata": {},
     "output_type": "execute_result"
    }
   ],
   "source": [
    "from urllib.parse import urlparse\n",
    "\n",
    "result = urlparse(\"http://www.python.org:80/guido/python.html;philosophy?overall=3#n10\")\n",
    "result"
   ]
  },
  {
   "cell_type": "markdown",
   "metadata": {},
   "source": [
    "* scheme  - URL에 사용된 프로토콜\n",
    "\n",
    "\n",
    "* netloc  - 네트워크 위치, HTTP 프로코톨일 경우는 host:port 형식\n",
    "\n",
    "\n",
    "* path  - 파일이나 애플리케이션 경로\n",
    "\n",
    "\n",
    "* params  - 애플리케이션에 전달된 매개변수(현재는 사용하지 않습니다.)\n",
    "\n",
    "\n",
    "* query  - 질의 문자열 또는 매개변수로, &로 구분된 이름 = 값 쌍 형식으로 표시\n",
    "\n",
    "\n",
    "* fragment  - 문서 내의 앵커 등 조각을 지정"
   ]
  },
  {
   "cell_type": "markdown",
   "metadata": {},
   "source": [
    "### 2.2.2 urlib.request 모듈"
   ]
  },
  {
   "cell_type": "markdown",
   "metadata": {},
   "source": [
    "urllib.request모듈은 주어진 URL에서 데이터를 가져오는 기본 기능을 제공 \n",
    "\n",
    "가장 깁몬이 되는 urlopen() 함수의 형식은 다음과 같습니다. "
   ]
  },
  {
   "cell_type": "markdown",
   "metadata": {},
   "source": [
    "urlopen(url, data = None, [timeout])"
   ]
  },
  {
   "cell_type": "markdown",
   "metadata": {},
   "source": [
    "* url - url인자로 지정한 URL로 연결하고, 유사 파일 객체를 반환, url인자는 문자열이거나, Request 클래스의 인스턴스가 올 수 있습니다. \n",
    "\n",
    "* 디폴트 요청 방식은 GET이고, 요청방식을 POST로 보내고 싶으면 data 인자에 질의 문자열을 지정해주면 됩니다.\n",
    "\n",
    "\n",
    "* 옵션인 timeout은 응답을 기다리는 타임아웃 시간을 초로 표시"
   ]
  },
  {
   "cell_type": "markdown",
   "metadata": {},
   "source": [
    "![1](https://user-images.githubusercontent.com/39263586/68163613-493a8b80-ff9e-11e9-863b-dfa282c1944d.PNG)\n"
   ]
  },
  {
   "cell_type": "markdown",
   "metadata": {},
   "source": [
    "* urlopen()함수 - GET 방식 요청"
   ]
  },
  {
   "cell_type": "code",
   "execution_count": 7,
   "metadata": {},
   "outputs": [
    {
     "name": "stdout",
     "output_type": "stream",
     "text": [
      "<!doctype html>\n",
      "<html>\n",
      "<head>\n",
      "    <title>Example Domain</title>\n",
      "\n",
      "    <meta charset=\"utf-8\" />\n",
      "    <meta http-equiv=\"Content-type\" content=\"text/html; charset=utf-8\" />\n",
      "    <meta name=\"viewport\" content=\"width=device-width, initial-scale=1\" />\n",
      "    <style type=\"text/css\">\n",
      "    body {\n",
      "        background-color: #f0f0f2;\n",
      "        margin: 0;\n",
      "        padding: 0;\n",
      "        font-family: -apple-system, system-ui, BlinkMacSystemFont, \"Segoe UI\", \"Open Sans\", \"Helvetica Neue\", Helvetica, Arial, sans-serif;\n",
      "    \n"
     ]
    }
   ],
   "source": [
    "from urllib.request import urlopen\n",
    "\n",
    "f = urlopen(\"http://www.example.com\")\n",
    "\n",
    "print(f.read(500).decode('utf-8'))\n"
   ]
  },
  {
   "cell_type": "markdown",
   "metadata": {},
   "source": [
    "## 실습 서버 실행 먼저 진행 할 것\n",
    "* ch2-test-server"
   ]
  },
  {
   "cell_type": "markdown",
   "metadata": {},
   "source": [
    "* urlopen()함수 - POST 방식 요청\n",
    "\n",
    "    - data 인자를 지정해줌\n",
    "\n",
    "\n",
    "    - data 인자는 URL에 허용된 문자열로 인코딩되어야 하고, 유니코드(str)타입이 아니라 바이트 스트링(bytes)타입이어야 한다"
   ]
  },
  {
   "cell_type": "code",
   "execution_count": 8,
   "metadata": {},
   "outputs": [
    {
     "name": "stdout",
     "output_type": "stream",
     "text": [
      "<!DOCTYPE html>\n",
      "<html lang=\"ko\">\n",
      "\n",
      "\n",
      "\n",
      "\n",
      "<head>\n",
      "\n",
      "    <meta charset=\"utf-8\">\n",
      "    <meta http-equiv=\"X-UA-Compatible\" content=\"IE=edge\">\n",
      "    <meta name=\"viewport\" content=\"width=device-width, initial-scale=1\">\n",
      "\n",
      "    <title>ch2-test-server</title>\n",
      "\n",
      "    <link rel=\"stylesheet\" href=\"https://maxcdn.bootstrapcdn.com/bootstrap/3.3.6/css/bootstrap.min.css\">\n",
      "    <link rel=\"stylesheet\" href=\"https://maxcdn.bootstrapcdn.com/bootstrap/3.3.6/css/bootstrap-theme.min.css\">\n",
      "\n",
      "    <!-- my css -->\n",
      "    <link rel=\"shortcut\n"
     ]
    }
   ],
   "source": [
    "from urllib.request import urlopen\n",
    "\n",
    "\n",
    "data = \"language=python&framework=django\"\n",
    "f = urlopen(\"http://127.0.0.1:8000\", bytes(data, encoding='utf-8'))\n",
    "\n",
    "print(f.read(500).decode('utf-8'))\n"
   ]
  },
  {
   "cell_type": "markdown",
   "metadata": {},
   "source": [
    "* urlopen()함수 - Request 클래스로 요청 헤더 지정\n",
    "\n",
    "     * url 인자에 문자열 대신에 Request 객체를 지정합니다. \n",
    "     \n",
    "     \n",
    "     \n",
    "     * Request 객체를 생성하고, add_header()로 헤더를 추가하여 웹 서버로 요청을 보내면 됩니다."
   ]
  },
  {
   "cell_type": "code",
   "execution_count": 9,
   "metadata": {},
   "outputs": [
    {
     "name": "stdout",
     "output_type": "stream",
     "text": [
      "Date: Thu, 15 Jul 2021 01:22:17 GMT\n",
      "Server: WSGIServer/0.2 CPython/3.7.10\n",
      "Content-Type: text/html; charset=utf-8\n",
      "X-Frame-Options: DENY\n",
      "Content-Length: 1758\n",
      "X-Content-Type-Options: nosniff\n",
      "\n",
      "\n",
      "<!DOCTYPE html>\n",
      "<html lang=\"ko\">\n",
      "\n",
      "\n",
      "\n",
      "\n",
      "<head>\n",
      "\n",
      "    <meta charset=\"utf-8\">\n",
      "    <meta http-equiv=\"X-UA-Compatible\" content=\"IE=edge\">\n",
      "    <meta name=\"viewport\" content=\"width=device-width, initial-scale=1\">\n",
      "\n",
      "    <title>ch2-test-server</title>\n",
      "\n",
      "    <link rel=\"stylesheet\" href=\"https://maxcdn.bootstrapcdn.com/bootstrap/3.3.6/css/bootstrap.min.css\">\n",
      "    <link rel=\"stylesheet\" href=\"https://maxcdn.bootstrapcdn.com/bootstrap/3.3.6/css/bootstrap-theme.min.css\">\n",
      "\n",
      "    <!-- my css -->\n",
      "    <link rel=\"shortcut\n"
     ]
    }
   ],
   "source": [
    "from urllib.request import urlopen, Request\n",
    "from urllib.parse import urlencode\n",
    "\n",
    "\n",
    "url = 'http://127.0.0.1:8000'\n",
    "\n",
    "data = {\n",
    "    'name': '김석훈',\n",
    "    'email': 'shkim@naver.com',\n",
    "    'url': 'http://www.naver.com',\n",
    "}\n",
    "encData = urlencode(data)\n",
    "postData = bytes(encData, encoding='utf-8')\n",
    "\n",
    "req = Request(url, data=postData)\n",
    "req.add_header('Content-Type', 'application/x-www-form-urlencoded')\n",
    "\n",
    "f = urlopen(req)\n",
    "\n",
    "print(f.info())\n",
    "print(f.read(500).decode('utf-8'))\n"
   ]
  },
  {
   "cell_type": "markdown",
   "metadata": {},
   "source": [
    "* urlopen()함수 - HTTPBasicAuthHandler 클래스로 인증 요청\n",
    "\n",
    "    * 인증 데이터나 쿠키 데이터를 추가하여 요청을 보내거나, 프록시 서버로 요청하는 등 HTTP의 고급 기능을 포함하여 요청할 때 사용\n",
    "    \n",
    "    \n",
    "    * 각 기능에 맞는 핸들러 객체를 정의하고, 그 핸들러를 build_opener() 함수를 사용하여 오프너에 등록합니다. "
   ]
  },
  {
   "cell_type": "markdown",
   "metadata": {},
   "source": [
    "### urllib.request 모듈에 정의된 HTTPBasicAuthHandler 클래스를 사용하여 인증 데이터를 같이 보내는 프로그램\n",
    "\n",
    "\n",
    "* 인증 데이터\n",
    "    * realm, user, passwd는 모두 서버에 지정한 것으로 채워서 보냄"
   ]
  },
  {
   "cell_type": "code",
   "execution_count": 4,
   "metadata": {},
   "outputs": [
    {
     "name": "stdout",
     "output_type": "stream",
     "text": [
      "This is Basic Auth Success Response.\n"
     ]
    }
   ],
   "source": [
    "from urllib.request import HTTPBasicAuthHandler, build_opener\n",
    "\n",
    "\n",
    "auth_handler = HTTPBasicAuthHandler()\n",
    "auth_handler.add_password(realm='ksh', user='shkim', passwd='shkimadmin', uri='http://127.0.0.1:8000/auth/')  # OK\n",
    "# NOK. auth_handler.add_password(realm='ksh', user='shkim', passwd='shkimadmin', uri='http://127.0.0.1:8000/')\n",
    "opener = build_opener(auth_handler)\n",
    "resp = opener.open('http://127.0.0.1:8000/auth/')\n",
    "print(resp.read().decode('utf-8'))\n"
   ]
  },
  {
   "cell_type": "markdown",
   "metadata": {},
   "source": [
    "* urlopen()함수 - HTTPCookieProcessor 클래스로 쿠키 데이터를 포함하여 요청\n",
    "\n",
    "    * urllib.request 모듈에 정의된 HTTPCookeProcessor 클래스를 사용하여 쿠키 데이터를 처리하는 프로그램\n",
    "    \n",
    "    1. 첫 번째 요청에서 쿠키를 담기 위한 준비를 하고 서버로 요청을 보냅니다.\n",
    "    2. 두 번째 요청에서는, 첫 번째 응답에서 받은 쿠키를 헤더에 담아서 요청을 보냅니다.\n",
    "    ( 만일 두 번째 요청에 쿠키 데이터가 없다면 서버에서 에러로 응답)\n"
   ]
  },
  {
   "cell_type": "markdown",
   "metadata": {},
   "source": [
    "---"
   ]
  },
  {
   "cell_type": "markdown",
   "metadata": {},
   "source": [
    "### HTTPCookieProcessor 클래스로 쿠키 데이터를 포함하여 요청"
   ]
  },
  {
   "cell_type": "markdown",
   "metadata": {},
   "source": [
    "* urllib.request 모듈에 정의된 HTTPCookieProcessor클래스를 사용하여 쿠키 데이터를 처리하는 프로그램\n",
    "\n",
    "1. 첫 번째 요청에서 쿠키를 담기 위한 준비를 하고 서버로 요청을 보냄\n",
    "\n",
    "2. 두 번째 요청에서는, 첫 번째 응답에서 받은 쿠키를 헤더에 담아서 요청을 보냄\n",
    "\n",
    "3. 두 번째 요청에 쿠키 데이터가 없다면 서버에서 에러로 응답"
   ]
  },
  {
   "cell_type": "code",
   "execution_count": 5,
   "metadata": {},
   "outputs": [
    {
     "name": "stdout",
     "output_type": "stream",
     "text": [
      "Date: Wed, 14 Jul 2021 21:11:23 GMT\n",
      "Server: WSGIServer/0.2 CPython/3.7.10\n",
      "Content-Type: text/html; charset=utf-8\n",
      "X-Frame-Options: DENY\n",
      "Content-Length: 59\n",
      "Vary: Cookie\n",
      "X-Content-Type-Options: nosniff\n",
      "Set-Cookie: sessionid=tqzggs3ewp0lhtcbzwgilyfeeguzd7sl; expires=Wed, 28 Jul 2021 21:11:23 GMT; HttpOnly; Max-Age=1209600; Path=/; SameSite=Lax\n",
      "\n",
      "\n",
      "GET Request&Response... This is set_test_cookie() Response.\n",
      "-------------------------------------------------------\n",
      "Date: Wed, 14 Jul 2021 21:11:23 GMT\n",
      "Server: WSGIServer/0.2 CPython/3.7.10\n",
      "Content-Type: text/html; charset=utf-8\n",
      "X-Frame-Options: DENY\n",
      "Content-Length: 45\n",
      "Vary: Cookie\n",
      "X-Content-Type-Options: nosniff\n",
      "Set-Cookie: sessionid=tqzggs3ewp0lhtcbzwgilyfeeguzd7sl; expires=Wed, 28 Jul 2021 21:11:23 GMT; HttpOnly; Max-Age=1209600; Path=/; SameSite=Lax\n",
      "\n",
      "\n",
      "POST Request&Response... OK. Cookie received.\n"
     ]
    }
   ],
   "source": [
    "from urllib.request import Request, HTTPCookieProcessor, build_opener\n",
    "\n",
    "\n",
    "url = 'http://127.0.0.1:8000/cookie/'\n",
    "\n",
    "# first request (GET) with cookie handler\n",
    "\n",
    "# 쿠키 핸들러 생성, 쿠키 데이터 저장은 디폴트로 CookieJar 객체를 사용함\n",
    "cookie_handler = HTTPCookieProcessor()\n",
    "opener = build_opener(cookie_handler)\n",
    "\n",
    "req = Request(url)\n",
    "res = opener.open(req)\n",
    "\n",
    "print(res.info())\n",
    "print(res.read().decode('utf-8'))\n",
    "\n",
    "# second request (POST)\n",
    "print(\"-------------------------------------------------------\")\n",
    "\n",
    "data = \"language=python&framework=django\"\n",
    "encData = bytes(data, encoding='utf-8')\n",
    "\n",
    "req = Request(url, encData)\n",
    "res = opener.open(req)\n",
    "\n",
    "print(res.info())\n",
    "print(res.read().decode('utf-8'))\n"
   ]
  },
  {
   "cell_type": "markdown",
   "metadata": {},
   "source": [
    "---\n",
    "\n",
    "* urlopen()함수 - ProxyHandler 및 ProxyBasixAuthHandler 클래스로 프록시 처리\n",
    "\n",
    "    * urllib.request모듈에 정의된 ProxyHandler 및 ProxyBasixAuthHandler 클래스를 사용하여 프록시 서버를 통과해서 웹 서버로 요청을 보내는 프로그램\n",
    "    \n",
    "    \n",
    "    * 프록시 서버가 필요로 하기 때문에 실습은 생략\n"
   ]
  },
  {
   "cell_type": "code",
   "execution_count": 14,
   "metadata": {
    "collapsed": true,
    "jupyter": {
     "outputs_hidden": true
    }
   },
   "outputs": [
    {
     "ename": "URLError",
     "evalue": "<urlopen error [WinError 10060] 연결된 구성원으로부터 응답이 없어 연결하지 못했거나, 호스트로부터 응답이 없어 연결이 끊어졌습니다>",
     "output_type": "error",
     "traceback": [
      "\u001b[1;31m---------------------------------------------------------------------------\u001b[0m",
      "\u001b[1;31mTimeoutError\u001b[0m                              Traceback (most recent call last)",
      "\u001b[1;32m~\\AppData\\Local\\Continuum\\anaconda3\\lib\\urllib\\request.py\u001b[0m in \u001b[0;36mdo_open\u001b[1;34m(self, http_class, req, **http_conn_args)\u001b[0m\n\u001b[0;32m   1316\u001b[0m                 h.request(req.get_method(), req.selector, req.data, headers,\n\u001b[1;32m-> 1317\u001b[1;33m                           encode_chunked=req.has_header('Transfer-encoding'))\n\u001b[0m\u001b[0;32m   1318\u001b[0m             \u001b[1;32mexcept\u001b[0m \u001b[0mOSError\u001b[0m \u001b[1;32mas\u001b[0m \u001b[0merr\u001b[0m\u001b[1;33m:\u001b[0m \u001b[1;31m# timeout error\u001b[0m\u001b[1;33m\u001b[0m\u001b[1;33m\u001b[0m\u001b[0m\n",
      "\u001b[1;32m~\\AppData\\Local\\Continuum\\anaconda3\\lib\\http\\client.py\u001b[0m in \u001b[0;36mrequest\u001b[1;34m(self, method, url, body, headers, encode_chunked)\u001b[0m\n\u001b[0;32m   1228\u001b[0m         \u001b[1;34m\"\"\"Send a complete request to the server.\"\"\"\u001b[0m\u001b[1;33m\u001b[0m\u001b[1;33m\u001b[0m\u001b[0m\n\u001b[1;32m-> 1229\u001b[1;33m         \u001b[0mself\u001b[0m\u001b[1;33m.\u001b[0m\u001b[0m_send_request\u001b[0m\u001b[1;33m(\u001b[0m\u001b[0mmethod\u001b[0m\u001b[1;33m,\u001b[0m \u001b[0murl\u001b[0m\u001b[1;33m,\u001b[0m \u001b[0mbody\u001b[0m\u001b[1;33m,\u001b[0m \u001b[0mheaders\u001b[0m\u001b[1;33m,\u001b[0m \u001b[0mencode_chunked\u001b[0m\u001b[1;33m)\u001b[0m\u001b[1;33m\u001b[0m\u001b[1;33m\u001b[0m\u001b[0m\n\u001b[0m\u001b[0;32m   1230\u001b[0m \u001b[1;33m\u001b[0m\u001b[0m\n",
      "\u001b[1;32m~\\AppData\\Local\\Continuum\\anaconda3\\lib\\http\\client.py\u001b[0m in \u001b[0;36m_send_request\u001b[1;34m(self, method, url, body, headers, encode_chunked)\u001b[0m\n\u001b[0;32m   1274\u001b[0m             \u001b[0mbody\u001b[0m \u001b[1;33m=\u001b[0m \u001b[0m_encode\u001b[0m\u001b[1;33m(\u001b[0m\u001b[0mbody\u001b[0m\u001b[1;33m,\u001b[0m \u001b[1;34m'body'\u001b[0m\u001b[1;33m)\u001b[0m\u001b[1;33m\u001b[0m\u001b[1;33m\u001b[0m\u001b[0m\n\u001b[1;32m-> 1275\u001b[1;33m         \u001b[0mself\u001b[0m\u001b[1;33m.\u001b[0m\u001b[0mendheaders\u001b[0m\u001b[1;33m(\u001b[0m\u001b[0mbody\u001b[0m\u001b[1;33m,\u001b[0m \u001b[0mencode_chunked\u001b[0m\u001b[1;33m=\u001b[0m\u001b[0mencode_chunked\u001b[0m\u001b[1;33m)\u001b[0m\u001b[1;33m\u001b[0m\u001b[1;33m\u001b[0m\u001b[0m\n\u001b[0m\u001b[0;32m   1276\u001b[0m \u001b[1;33m\u001b[0m\u001b[0m\n",
      "\u001b[1;32m~\\AppData\\Local\\Continuum\\anaconda3\\lib\\http\\client.py\u001b[0m in \u001b[0;36mendheaders\u001b[1;34m(self, message_body, encode_chunked)\u001b[0m\n\u001b[0;32m   1223\u001b[0m             \u001b[1;32mraise\u001b[0m \u001b[0mCannotSendHeader\u001b[0m\u001b[1;33m(\u001b[0m\u001b[1;33m)\u001b[0m\u001b[1;33m\u001b[0m\u001b[1;33m\u001b[0m\u001b[0m\n\u001b[1;32m-> 1224\u001b[1;33m         \u001b[0mself\u001b[0m\u001b[1;33m.\u001b[0m\u001b[0m_send_output\u001b[0m\u001b[1;33m(\u001b[0m\u001b[0mmessage_body\u001b[0m\u001b[1;33m,\u001b[0m \u001b[0mencode_chunked\u001b[0m\u001b[1;33m=\u001b[0m\u001b[0mencode_chunked\u001b[0m\u001b[1;33m)\u001b[0m\u001b[1;33m\u001b[0m\u001b[1;33m\u001b[0m\u001b[0m\n\u001b[0m\u001b[0;32m   1225\u001b[0m \u001b[1;33m\u001b[0m\u001b[0m\n",
      "\u001b[1;32m~\\AppData\\Local\\Continuum\\anaconda3\\lib\\http\\client.py\u001b[0m in \u001b[0;36m_send_output\u001b[1;34m(self, message_body, encode_chunked)\u001b[0m\n\u001b[0;32m   1015\u001b[0m         \u001b[1;32mdel\u001b[0m \u001b[0mself\u001b[0m\u001b[1;33m.\u001b[0m\u001b[0m_buffer\u001b[0m\u001b[1;33m[\u001b[0m\u001b[1;33m:\u001b[0m\u001b[1;33m]\u001b[0m\u001b[1;33m\u001b[0m\u001b[1;33m\u001b[0m\u001b[0m\n\u001b[1;32m-> 1016\u001b[1;33m         \u001b[0mself\u001b[0m\u001b[1;33m.\u001b[0m\u001b[0msend\u001b[0m\u001b[1;33m(\u001b[0m\u001b[0mmsg\u001b[0m\u001b[1;33m)\u001b[0m\u001b[1;33m\u001b[0m\u001b[1;33m\u001b[0m\u001b[0m\n\u001b[0m\u001b[0;32m   1017\u001b[0m \u001b[1;33m\u001b[0m\u001b[0m\n",
      "\u001b[1;32m~\\AppData\\Local\\Continuum\\anaconda3\\lib\\http\\client.py\u001b[0m in \u001b[0;36msend\u001b[1;34m(self, data)\u001b[0m\n\u001b[0;32m    955\u001b[0m             \u001b[1;32mif\u001b[0m \u001b[0mself\u001b[0m\u001b[1;33m.\u001b[0m\u001b[0mauto_open\u001b[0m\u001b[1;33m:\u001b[0m\u001b[1;33m\u001b[0m\u001b[1;33m\u001b[0m\u001b[0m\n\u001b[1;32m--> 956\u001b[1;33m                 \u001b[0mself\u001b[0m\u001b[1;33m.\u001b[0m\u001b[0mconnect\u001b[0m\u001b[1;33m(\u001b[0m\u001b[1;33m)\u001b[0m\u001b[1;33m\u001b[0m\u001b[1;33m\u001b[0m\u001b[0m\n\u001b[0m\u001b[0;32m    957\u001b[0m             \u001b[1;32melse\u001b[0m\u001b[1;33m:\u001b[0m\u001b[1;33m\u001b[0m\u001b[1;33m\u001b[0m\u001b[0m\n",
      "\u001b[1;32m~\\AppData\\Local\\Continuum\\anaconda3\\lib\\http\\client.py\u001b[0m in \u001b[0;36mconnect\u001b[1;34m(self)\u001b[0m\n\u001b[0;32m    927\u001b[0m         self.sock = self._create_connection(\n\u001b[1;32m--> 928\u001b[1;33m             (self.host,self.port), self.timeout, self.source_address)\n\u001b[0m\u001b[0;32m    929\u001b[0m         \u001b[0mself\u001b[0m\u001b[1;33m.\u001b[0m\u001b[0msock\u001b[0m\u001b[1;33m.\u001b[0m\u001b[0msetsockopt\u001b[0m\u001b[1;33m(\u001b[0m\u001b[0msocket\u001b[0m\u001b[1;33m.\u001b[0m\u001b[0mIPPROTO_TCP\u001b[0m\u001b[1;33m,\u001b[0m \u001b[0msocket\u001b[0m\u001b[1;33m.\u001b[0m\u001b[0mTCP_NODELAY\u001b[0m\u001b[1;33m,\u001b[0m \u001b[1;36m1\u001b[0m\u001b[1;33m)\u001b[0m\u001b[1;33m\u001b[0m\u001b[1;33m\u001b[0m\u001b[0m\n",
      "\u001b[1;32m~\\AppData\\Local\\Continuum\\anaconda3\\lib\\socket.py\u001b[0m in \u001b[0;36mcreate_connection\u001b[1;34m(address, timeout, source_address)\u001b[0m\n\u001b[0;32m    726\u001b[0m     \u001b[1;32mif\u001b[0m \u001b[0merr\u001b[0m \u001b[1;32mis\u001b[0m \u001b[1;32mnot\u001b[0m \u001b[1;32mNone\u001b[0m\u001b[1;33m:\u001b[0m\u001b[1;33m\u001b[0m\u001b[1;33m\u001b[0m\u001b[0m\n\u001b[1;32m--> 727\u001b[1;33m         \u001b[1;32mraise\u001b[0m \u001b[0merr\u001b[0m\u001b[1;33m\u001b[0m\u001b[1;33m\u001b[0m\u001b[0m\n\u001b[0m\u001b[0;32m    728\u001b[0m     \u001b[1;32melse\u001b[0m\u001b[1;33m:\u001b[0m\u001b[1;33m\u001b[0m\u001b[1;33m\u001b[0m\u001b[0m\n",
      "\u001b[1;32m~\\AppData\\Local\\Continuum\\anaconda3\\lib\\socket.py\u001b[0m in \u001b[0;36mcreate_connection\u001b[1;34m(address, timeout, source_address)\u001b[0m\n\u001b[0;32m    715\u001b[0m                 \u001b[0msock\u001b[0m\u001b[1;33m.\u001b[0m\u001b[0mbind\u001b[0m\u001b[1;33m(\u001b[0m\u001b[0msource_address\u001b[0m\u001b[1;33m)\u001b[0m\u001b[1;33m\u001b[0m\u001b[1;33m\u001b[0m\u001b[0m\n\u001b[1;32m--> 716\u001b[1;33m             \u001b[0msock\u001b[0m\u001b[1;33m.\u001b[0m\u001b[0mconnect\u001b[0m\u001b[1;33m(\u001b[0m\u001b[0msa\u001b[0m\u001b[1;33m)\u001b[0m\u001b[1;33m\u001b[0m\u001b[1;33m\u001b[0m\u001b[0m\n\u001b[0m\u001b[0;32m    717\u001b[0m             \u001b[1;31m# Break explicitly a reference cycle\u001b[0m\u001b[1;33m\u001b[0m\u001b[1;33m\u001b[0m\u001b[1;33m\u001b[0m\u001b[0m\n",
      "\u001b[1;31mTimeoutError\u001b[0m: [WinError 10060] 연결된 구성원으로부터 응답이 없어 연결하지 못했거나, 호스트로부터 응답이 없어 연결이 끊어졌습니다",
      "\nDuring handling of the above exception, another exception occurred:\n",
      "\u001b[1;31mURLError\u001b[0m                                  Traceback (most recent call last)",
      "\u001b[1;32m<ipython-input-14-7dddf8880ac7>\u001b[0m in \u001b[0;36m<module>\u001b[1;34m\u001b[0m\n\u001b[0;32m     22\u001b[0m \u001b[1;33m\u001b[0m\u001b[0m\n\u001b[0;32m     23\u001b[0m \u001b[1;31m# opener.open() 대신에 urlopen()을 사용했습니다.\u001b[0m\u001b[1;33m\u001b[0m\u001b[1;33m\u001b[0m\u001b[1;33m\u001b[0m\u001b[0m\n\u001b[1;32m---> 24\u001b[1;33m \u001b[0mf\u001b[0m \u001b[1;33m=\u001b[0m \u001b[0murllib\u001b[0m\u001b[1;33m.\u001b[0m\u001b[0mrequest\u001b[0m\u001b[1;33m.\u001b[0m\u001b[0murlopen\u001b[0m\u001b[1;33m(\u001b[0m\u001b[0murl\u001b[0m\u001b[1;33m)\u001b[0m\u001b[1;33m\u001b[0m\u001b[1;33m\u001b[0m\u001b[0m\n\u001b[0m\u001b[0;32m     25\u001b[0m \u001b[1;33m\u001b[0m\u001b[0m\n\u001b[0;32m     26\u001b[0m \u001b[0mprint\u001b[0m\u001b[1;33m(\u001b[0m\u001b[1;34m\"geturl():\"\u001b[0m\u001b[1;33m,\u001b[0m \u001b[0mf\u001b[0m\u001b[1;33m.\u001b[0m\u001b[0mgeturl\u001b[0m\u001b[1;33m(\u001b[0m\u001b[1;33m)\u001b[0m\u001b[1;33m)\u001b[0m\u001b[1;33m\u001b[0m\u001b[1;33m\u001b[0m\u001b[0m\n",
      "\u001b[1;32m~\\AppData\\Local\\Continuum\\anaconda3\\lib\\urllib\\request.py\u001b[0m in \u001b[0;36murlopen\u001b[1;34m(url, data, timeout, cafile, capath, cadefault, context)\u001b[0m\n\u001b[0;32m    220\u001b[0m     \u001b[1;32melse\u001b[0m\u001b[1;33m:\u001b[0m\u001b[1;33m\u001b[0m\u001b[1;33m\u001b[0m\u001b[0m\n\u001b[0;32m    221\u001b[0m         \u001b[0mopener\u001b[0m \u001b[1;33m=\u001b[0m \u001b[0m_opener\u001b[0m\u001b[1;33m\u001b[0m\u001b[1;33m\u001b[0m\u001b[0m\n\u001b[1;32m--> 222\u001b[1;33m     \u001b[1;32mreturn\u001b[0m \u001b[0mopener\u001b[0m\u001b[1;33m.\u001b[0m\u001b[0mopen\u001b[0m\u001b[1;33m(\u001b[0m\u001b[0murl\u001b[0m\u001b[1;33m,\u001b[0m \u001b[0mdata\u001b[0m\u001b[1;33m,\u001b[0m \u001b[0mtimeout\u001b[0m\u001b[1;33m)\u001b[0m\u001b[1;33m\u001b[0m\u001b[1;33m\u001b[0m\u001b[0m\n\u001b[0m\u001b[0;32m    223\u001b[0m \u001b[1;33m\u001b[0m\u001b[0m\n\u001b[0;32m    224\u001b[0m \u001b[1;32mdef\u001b[0m \u001b[0minstall_opener\u001b[0m\u001b[1;33m(\u001b[0m\u001b[0mopener\u001b[0m\u001b[1;33m)\u001b[0m\u001b[1;33m:\u001b[0m\u001b[1;33m\u001b[0m\u001b[1;33m\u001b[0m\u001b[0m\n",
      "\u001b[1;32m~\\AppData\\Local\\Continuum\\anaconda3\\lib\\urllib\\request.py\u001b[0m in \u001b[0;36mopen\u001b[1;34m(self, fullurl, data, timeout)\u001b[0m\n\u001b[0;32m    523\u001b[0m             \u001b[0mreq\u001b[0m \u001b[1;33m=\u001b[0m \u001b[0mmeth\u001b[0m\u001b[1;33m(\u001b[0m\u001b[0mreq\u001b[0m\u001b[1;33m)\u001b[0m\u001b[1;33m\u001b[0m\u001b[1;33m\u001b[0m\u001b[0m\n\u001b[0;32m    524\u001b[0m \u001b[1;33m\u001b[0m\u001b[0m\n\u001b[1;32m--> 525\u001b[1;33m         \u001b[0mresponse\u001b[0m \u001b[1;33m=\u001b[0m \u001b[0mself\u001b[0m\u001b[1;33m.\u001b[0m\u001b[0m_open\u001b[0m\u001b[1;33m(\u001b[0m\u001b[0mreq\u001b[0m\u001b[1;33m,\u001b[0m \u001b[0mdata\u001b[0m\u001b[1;33m)\u001b[0m\u001b[1;33m\u001b[0m\u001b[1;33m\u001b[0m\u001b[0m\n\u001b[0m\u001b[0;32m    526\u001b[0m \u001b[1;33m\u001b[0m\u001b[0m\n\u001b[0;32m    527\u001b[0m         \u001b[1;31m# post-process response\u001b[0m\u001b[1;33m\u001b[0m\u001b[1;33m\u001b[0m\u001b[1;33m\u001b[0m\u001b[0m\n",
      "\u001b[1;32m~\\AppData\\Local\\Continuum\\anaconda3\\lib\\urllib\\request.py\u001b[0m in \u001b[0;36m_open\u001b[1;34m(self, req, data)\u001b[0m\n\u001b[0;32m    541\u001b[0m         \u001b[0mprotocol\u001b[0m \u001b[1;33m=\u001b[0m \u001b[0mreq\u001b[0m\u001b[1;33m.\u001b[0m\u001b[0mtype\u001b[0m\u001b[1;33m\u001b[0m\u001b[1;33m\u001b[0m\u001b[0m\n\u001b[0;32m    542\u001b[0m         result = self._call_chain(self.handle_open, protocol, protocol +\n\u001b[1;32m--> 543\u001b[1;33m                                   '_open', req)\n\u001b[0m\u001b[0;32m    544\u001b[0m         \u001b[1;32mif\u001b[0m \u001b[0mresult\u001b[0m\u001b[1;33m:\u001b[0m\u001b[1;33m\u001b[0m\u001b[1;33m\u001b[0m\u001b[0m\n\u001b[0;32m    545\u001b[0m             \u001b[1;32mreturn\u001b[0m \u001b[0mresult\u001b[0m\u001b[1;33m\u001b[0m\u001b[1;33m\u001b[0m\u001b[0m\n",
      "\u001b[1;32m~\\AppData\\Local\\Continuum\\anaconda3\\lib\\urllib\\request.py\u001b[0m in \u001b[0;36m_call_chain\u001b[1;34m(self, chain, kind, meth_name, *args)\u001b[0m\n\u001b[0;32m    501\u001b[0m         \u001b[1;32mfor\u001b[0m \u001b[0mhandler\u001b[0m \u001b[1;32min\u001b[0m \u001b[0mhandlers\u001b[0m\u001b[1;33m:\u001b[0m\u001b[1;33m\u001b[0m\u001b[1;33m\u001b[0m\u001b[0m\n\u001b[0;32m    502\u001b[0m             \u001b[0mfunc\u001b[0m \u001b[1;33m=\u001b[0m \u001b[0mgetattr\u001b[0m\u001b[1;33m(\u001b[0m\u001b[0mhandler\u001b[0m\u001b[1;33m,\u001b[0m \u001b[0mmeth_name\u001b[0m\u001b[1;33m)\u001b[0m\u001b[1;33m\u001b[0m\u001b[1;33m\u001b[0m\u001b[0m\n\u001b[1;32m--> 503\u001b[1;33m             \u001b[0mresult\u001b[0m \u001b[1;33m=\u001b[0m \u001b[0mfunc\u001b[0m\u001b[1;33m(\u001b[0m\u001b[1;33m*\u001b[0m\u001b[0margs\u001b[0m\u001b[1;33m)\u001b[0m\u001b[1;33m\u001b[0m\u001b[1;33m\u001b[0m\u001b[0m\n\u001b[0m\u001b[0;32m    504\u001b[0m             \u001b[1;32mif\u001b[0m \u001b[0mresult\u001b[0m \u001b[1;32mis\u001b[0m \u001b[1;32mnot\u001b[0m \u001b[1;32mNone\u001b[0m\u001b[1;33m:\u001b[0m\u001b[1;33m\u001b[0m\u001b[1;33m\u001b[0m\u001b[0m\n\u001b[0;32m    505\u001b[0m                 \u001b[1;32mreturn\u001b[0m \u001b[0mresult\u001b[0m\u001b[1;33m\u001b[0m\u001b[1;33m\u001b[0m\u001b[0m\n",
      "\u001b[1;32m~\\AppData\\Local\\Continuum\\anaconda3\\lib\\urllib\\request.py\u001b[0m in \u001b[0;36mhttp_open\u001b[1;34m(self, req)\u001b[0m\n\u001b[0;32m   1343\u001b[0m \u001b[1;33m\u001b[0m\u001b[0m\n\u001b[0;32m   1344\u001b[0m     \u001b[1;32mdef\u001b[0m \u001b[0mhttp_open\u001b[0m\u001b[1;33m(\u001b[0m\u001b[0mself\u001b[0m\u001b[1;33m,\u001b[0m \u001b[0mreq\u001b[0m\u001b[1;33m)\u001b[0m\u001b[1;33m:\u001b[0m\u001b[1;33m\u001b[0m\u001b[1;33m\u001b[0m\u001b[0m\n\u001b[1;32m-> 1345\u001b[1;33m         \u001b[1;32mreturn\u001b[0m \u001b[0mself\u001b[0m\u001b[1;33m.\u001b[0m\u001b[0mdo_open\u001b[0m\u001b[1;33m(\u001b[0m\u001b[0mhttp\u001b[0m\u001b[1;33m.\u001b[0m\u001b[0mclient\u001b[0m\u001b[1;33m.\u001b[0m\u001b[0mHTTPConnection\u001b[0m\u001b[1;33m,\u001b[0m \u001b[0mreq\u001b[0m\u001b[1;33m)\u001b[0m\u001b[1;33m\u001b[0m\u001b[1;33m\u001b[0m\u001b[0m\n\u001b[0m\u001b[0;32m   1346\u001b[0m \u001b[1;33m\u001b[0m\u001b[0m\n\u001b[0;32m   1347\u001b[0m     \u001b[0mhttp_request\u001b[0m \u001b[1;33m=\u001b[0m \u001b[0mAbstractHTTPHandler\u001b[0m\u001b[1;33m.\u001b[0m\u001b[0mdo_request_\u001b[0m\u001b[1;33m\u001b[0m\u001b[1;33m\u001b[0m\u001b[0m\n",
      "\u001b[1;32m~\\AppData\\Local\\Continuum\\anaconda3\\lib\\urllib\\request.py\u001b[0m in \u001b[0;36mdo_open\u001b[1;34m(self, http_class, req, **http_conn_args)\u001b[0m\n\u001b[0;32m   1317\u001b[0m                           encode_chunked=req.has_header('Transfer-encoding'))\n\u001b[0;32m   1318\u001b[0m             \u001b[1;32mexcept\u001b[0m \u001b[0mOSError\u001b[0m \u001b[1;32mas\u001b[0m \u001b[0merr\u001b[0m\u001b[1;33m:\u001b[0m \u001b[1;31m# timeout error\u001b[0m\u001b[1;33m\u001b[0m\u001b[1;33m\u001b[0m\u001b[0m\n\u001b[1;32m-> 1319\u001b[1;33m                 \u001b[1;32mraise\u001b[0m \u001b[0mURLError\u001b[0m\u001b[1;33m(\u001b[0m\u001b[0merr\u001b[0m\u001b[1;33m)\u001b[0m\u001b[1;33m\u001b[0m\u001b[1;33m\u001b[0m\u001b[0m\n\u001b[0m\u001b[0;32m   1320\u001b[0m             \u001b[0mr\u001b[0m \u001b[1;33m=\u001b[0m \u001b[0mh\u001b[0m\u001b[1;33m.\u001b[0m\u001b[0mgetresponse\u001b[0m\u001b[1;33m(\u001b[0m\u001b[1;33m)\u001b[0m\u001b[1;33m\u001b[0m\u001b[1;33m\u001b[0m\u001b[0m\n\u001b[0;32m   1321\u001b[0m         \u001b[1;32mexcept\u001b[0m\u001b[1;33m:\u001b[0m\u001b[1;33m\u001b[0m\u001b[1;33m\u001b[0m\u001b[0m\n",
      "\u001b[1;31mURLError\u001b[0m: <urlopen error [WinError 10060] 연결된 구성원으로부터 응답이 없어 연결하지 못했거나, 호스트로부터 응답이 없어 연결이 끊어졌습니다>"
     ]
    }
   ],
   "source": [
    "import urllib.request\n",
    "\n",
    "\n",
    "url = 'http://www.example.com'\n",
    "proxyServer = 'http://www.proxy.com:3128/'\n",
    "\n",
    "# 프록시 서버를 통해 웹서버로 요청을 보냅니다.\n",
    "proxy_handler = urllib.request.ProxyHandler({'http': proxyServer})\n",
    "\n",
    "# 프록시 서버 설정을 무시하고 웹서버로 요청을 보냅니다.\n",
    "# proxy_handler = urllib.request.ProxyHandler({})\n",
    "\n",
    "# 프록시 서버에 대한 인증을 처리합니다.\n",
    "proxy_auth_handler = urllib.request.ProxyBasicAuthHandler()\n",
    "proxy_auth_handler.add_password('realm', 'host', 'username', 'password')\n",
    "\n",
    "# 2개의 핸들러를 오프너에 등록합니다.\n",
    "opener = urllib.request.build_opener(proxy_handler, proxy_auth_handler)\n",
    "\n",
    "# 디폴트 오프너로 지정하면, urlopen() 함수로 요청을 보낼 수 있습니다.\n",
    "urllib.request.install_opener(opener)\n",
    "\n",
    "# opener.open() 대신에 urlopen()을 사용했습니다.\n",
    "f = urllib.request.urlopen(url)\n",
    "\n",
    "print(\"geturl():\", f.geturl())\n",
    "print(f.read(300).decode('utf-8'))\n"
   ]
  },
  {
   "cell_type": "markdown",
   "metadata": {},
   "source": [
    "### 2.2.3 urlib.request 모듈 예제"
   ]
  },
  {
   "cell_type": "markdown",
   "metadata": {},
   "source": [
    "다음 예제는 특정 웹 사이트에서 이미지만을 검색해서 그 리스트를 보여주는 코드\n",
    "\n",
    "* HTMLParser클래스를 사용\n",
    "    * HTML 문서를 파싱하는데 사용되는 클래스"
   ]
  },
  {
   "cell_type": "code",
   "execution_count": 6,
   "metadata": {},
   "outputs": [
    {
     "name": "stdout",
     "output_type": "stream",
     "text": [
      "\n",
      ">>>>>>>>> Fetch Images from http://www.google.com\n",
      "/images/branding/googlelogo/1x/googlelogo_white_background_color_272x92dp.png\n",
      "/textinputassistant/tia.png\n"
     ]
    }
   ],
   "source": [
    "from urllib.request import urlopen\n",
    "from html.parser import HTMLParser\n",
    "\n",
    "\n",
    "class ImageParser(HTMLParser):\n",
    "    #<img> 태그를 찾기 위하여 handle_startag() 함수를 오버라이드\n",
    "    def handle_starttag(self, tag, attrs):\n",
    "        if tag != 'img':\n",
    "            return\n",
    "        if not hasattr(self, 'result'):\n",
    "            self.result = []\n",
    "            \n",
    "            #<img src> 속성을 찾으면 속성값을 self.result 리스트에 추가\n",
    "        for name, value in attrs:\n",
    "            if name == 'src':\n",
    "                self.result.append(value)\n",
    "\n",
    "# HTML 문장이 주어지면 HTML Parser 클래스를 사용해서 이미지를 찾고, 그 리스트를 출력해주는 함수\n",
    "def parse_image(data):\n",
    "    parser = ImageParser()\n",
    "    #HTML 문장을 feed() 함수에 주면 파로 파싱하고 그 결과를 parser.result 리스트에 추가\n",
    "    parser.feed(data)\n",
    "    #파싱 결과를 set 타입의 dataSet으로 모아줍니다. 중복된 항목이 있다면 set() 기능에 의해 제거\n",
    "    dataSet = set(x for x in parser.result)\n",
    "    return dataSet\n",
    "\n",
    "\n",
    "# 프로그램의 시작점인 메인 함수로, google 사이트를 검색하여 이미지를 찾는 함수\n",
    "def main():\n",
    "    url = \"http://www.google.com\"\n",
    "\n",
    "    with urlopen(url) as f:\n",
    "        charset = f.info().get_param('charset')\n",
    "        data = f.read().decode(charset)\n",
    "\n",
    "    dataSet = parse_image(data)\n",
    "    print(\"\\n>>>>>>>>> Fetch Images from\", url)\n",
    "    print('\\n'.join(sorted(dataSet)))\n",
    "\n",
    "\n",
    "if __name__ == '__main__':\n",
    "    main()\n"
   ]
  },
  {
   "cell_type": "markdown",
   "metadata": {},
   "source": [
    "2개의 이미지가 존재하는 것을 확인함"
   ]
  },
  {
   "cell_type": "markdown",
   "metadata": {},
   "source": [
    "### 2.2.4 http.client 모듈"
   ]
  },
  {
   "cell_type": "markdown",
   "metadata": {},
   "source": [
    "* 대부분의 웹 클라이언트 프로그램은 urllib.request 모듈에 정의된 기능만으로도 작성이 가능합니다.\n",
    "\n",
    "* http.client모듈을 사용하는 경우\n",
    "\n",
    "\n",
    "1.  GET, POST 이외의 방식으로 요청을 보내거나, 요청 헤더와 바디 사이에 타이머를 두어 시간을 지연시키는 등 urllib.request 모듈로는 쉽게 처리할 수 없는 경우\n",
    "2. HTTP 프로토콜 요청에 대한 저수준의 더 세밀한 기능을 필요로 할 경우"
   ]
  },
  {
   "cell_type": "markdown",
   "metadata": {},
   "source": [
    "![2](https://user-images.githubusercontent.com/39263586/68165405-afc1a880-ffa2-11e9-8bbb-809fe7541148.PNG)\n"
   ]
  },
  {
   "cell_type": "markdown",
   "metadata": {},
   "source": [
    "http.client 모듈을 사용하여 GET, HEAD, POST, PUT 방식으로 요청을 보내는 방법을 알아볼 것"
   ]
  },
  {
   "cell_type": "markdown",
   "metadata": {},
   "source": [
    "* http.client 모듈 사용 - GET 방식 요청"
   ]
  },
  {
   "cell_type": "code",
   "execution_count": 7,
   "metadata": {},
   "outputs": [
    {
     "name": "stdout",
     "output_type": "stream",
     "text": [
      "200 OK\n",
      "200 OK\n",
      "<!doctype html>\n",
      "<html>\n",
      "<head>\n",
      "    <title>Example Domain</title>\n",
      "\n",
      "    <meta charset=\"utf-8\" />\n",
      "    <meta http-equiv=\"Content-type\" content=\"text/html; charset=utf-8\" />\n",
      "    <meta name=\"viewport\" content=\"width=device-width, initial-scale=1\" />\n",
      "    <style type=\"text/css\">\n",
      "    body {\n",
      "        background-color: #f0f0f2;\n",
      "        margin: 0;\n",
      "        padding: 0;\n",
      "        font-family: -apple-system, system-ui, BlinkMacSystemFont, \"Segoe UI\", \"Open Sans\", \"Helvetica Neue\", Helvetica, Arial, sans-serif;\n",
      "        \n",
      "    }\n",
      "    div {\n",
      "        width: 600px;\n",
      "        margin: 5em auto;\n",
      "        padding: 2em;\n",
      "        background-color: #fdfdff;\n",
      "        border-radius: 0.5em;\n",
      "        box-shadow: 2px 3px 7px 2px rgba(0,0,0,0.02);\n",
      "    }\n",
      "    a:link, a:visited {\n",
      "        color: #38488f;\n",
      "        text-decoration: none;\n",
      "    }\n",
      "    @media (max-width: 700px) {\n",
      "        div {\n",
      "            margin: 0 auto;\n",
      "            width: auto;\n",
      "        }\n",
      "    }\n",
      "    </style>    \n",
      "</head>\n",
      "\n",
      "<body>\n",
      "<div>\n",
      "    <h1>Example Domain</h1>\n",
      "    <p>This domain is for use in illustrative examples in documents. You may use this\n",
      "    domain in literature without prior coordination or asking for permission.</p>\n",
      "    <p><a href=\"https://www.iana.org/domains/example\">More information...</a></p>\n",
      "</div>\n",
      "</body>\n",
      "</html>\n",
      "\n"
     ]
    }
   ],
   "source": [
    "from http.client import HTTPConnection\n",
    "\n",
    "host = 'www.example.com'\n",
    "conn = HTTPConnection(host)\n",
    "# HTTPConnection() 클래스 생성 시, 첫 번째 인자는 url이 아니라 host\n",
    "\n",
    "conn.request('GET', '/')\n",
    "# GET 방식임을 명시적으로 표현\n",
    "# request(method, url, body, headers) 형식 method, url필수 body, headers 옵션\n",
    "\n",
    "\n",
    "r1 = conn.getresponse()\n",
    "print(r1.status, r1.reason)\n",
    "\n",
    "data1 = r1.read()\n",
    "# 일부만 읽는 경우는, 두번째 요청시 에러가 남\n",
    "# data1 = r1.read(100)\n",
    "\n",
    "# 두번째 요청에 대한 테스트\n",
    "conn.request('GET', '/')\n",
    "\n",
    "r2 = conn.getresponse()\n",
    "print(r2.status, r2.reason)\n",
    "\n",
    "data2 = r2.read()\n",
    "print(data2.decode())\n",
    "\n",
    "conn.close()\n"
   ]
  },
  {
   "cell_type": "markdown",
   "metadata": {},
   "source": [
    "* http.client 모듈 사용 - HEAD 방식 요청"
   ]
  },
  {
   "cell_type": "code",
   "execution_count": 20,
   "metadata": {},
   "outputs": [
    {
     "name": "stdout",
     "output_type": "stream",
     "text": [
      "200 OK\n",
      "0\n",
      "True\n"
     ]
    }
   ],
   "source": [
    "from http.client import HTTPConnection\n",
    "\n",
    "conn = HTTPConnection('www.example.com')\n",
    "conn.request('HEAD', '/')\n",
    "\n",
    "resp = conn.getresponse()\n",
    "print(resp.status, resp.reason)\n",
    "\n",
    "data = resp.read()\n",
    "print(len(data))\n",
    "print(data == b'')\n"
   ]
  },
  {
   "cell_type": "markdown",
   "metadata": {},
   "source": [
    "* http.client 모듈 사용 - POST 방식 요청"
   ]
  },
  {
   "cell_type": "code",
   "execution_count": 21,
   "metadata": {},
   "outputs": [
    {
     "name": "stdout",
     "output_type": "stream",
     "text": [
      "200 OK\n",
      "<!DOCTYPE html>\n",
      "<html lang=\"ko\">\n",
      "\n",
      "\n",
      "\n",
      "<head>\n",
      "\n",
      "    <meta charset=\"utf-8\">\n",
      "    <meta http-equiv=\"X-UA-Compatible\" content=\"IE=edge\">\n",
      "    <meta name=\"viewport\" content=\"width=device-width, initial-scale=1\">\n",
      "\n",
      "    <title>ch2-test-server</title>\n",
      "\n",
      "    <link rel=\"stylesheet\" href=\"https://maxcdn.bootstrapcdn.com/bootstrap/3.3.6/css/bootstrap.min.css\">\n",
      "    <link rel=\"stylesheet\" href=\"https://maxcdn.bootstrapcdn.com/bootstrap/3.3.6/css/bootstrap-theme.min.css\">\n",
      "\n",
      "    <!-- my css -->\n",
      "    <link rel=\"shortcut icon\" href=\"/static/img/favicon.ico\">\n",
      "\n",
      "    <style type=\"text/css\">\n",
      "    .homewindow {\n",
      "        background-size: 100%;\n",
      "        height: 500px;\n",
      "        border-top: 10px solid #ccc;\n",
      "        border-bottom: 10px solid #ccc;\n",
      "        padding: 20px 100px;\n",
      "    }\n",
      "    .title {\n",
      "        color: #c80;\n",
      "        font-weight: bold;\n",
      "    }\n",
      "    .homewindow ul li {\n",
      "        font-weight: bold;\n",
      "        line-height: 30px;\n",
      "    }\n",
      "    </style>\n",
      "\n",
      "</head>\n",
      "\n",
      "<body style=\"padding-top:90px;\">\n",
      "\n",
      "    <div class=\"homewindow\">\n",
      "        <h2 class=\"title\">Django - Python Web Programming</h2>\n",
      "        <br>\n",
      "        <h3 style=\"margin-left: 25px;\">ch2-test-server 를 사용하는 예제 리스트</h3>\n",
      "        <ul>\n",
      "            <li>예제 2-2 urlopen() 함수 - POST 방식 요청</li>\n",
      "            <li>예제 2-3 urlopen() 함수 - Request 클래스로 요청 헤더 지정</li>\n",
      "            <li>예제 2-4 urlopen() 함수 - HTTPBasicAuthHandler 클래스로 인증 요청</li>\n",
      "            <li>예제 2-5 urlopen() 함수 - HTTPCookieProcessor 클래스로 쿠키 데이터를 포함하여 요청</li>\n",
      "            <li>예제 2-10 http.client 모듈 사용 - POST 방식 요청</li>\n",
      "            <li>예제 2-11 http.client 모듈 사용 - PUT 방식 요청</li>\n",
      "        </ul>\n",
      "    </div>\n",
      "\n",
      "</body>\n",
      "</html>\n"
     ]
    }
   ],
   "source": [
    "from http.client import HTTPConnection\n",
    "from urllib.parse import urlencode\n",
    "\n",
    "\n",
    "host = '127.0.0.1:8000'\n",
    "params = urlencode({\n",
    "    'language': 'python',\n",
    "    'name': '김석훈',\n",
    "    'email': 'shkim@naver.com',\n",
    "})\n",
    "headers = {\n",
    "    'Content-Type': 'application/x-www-form-urlencoded',\n",
    "    'Accept': 'text/plain',\n",
    "}\n",
    "\n",
    "conn = HTTPConnection(host)\n",
    "conn.request('POST', '', params, headers)\n",
    "resp = conn.getresponse()\n",
    "print(resp.status, resp.reason)\n",
    "\n",
    "data = resp.read()\n",
    "print(data.decode('utf-8'))\n",
    "\n",
    "conn.close()\n"
   ]
  },
  {
   "cell_type": "markdown",
   "metadata": {},
   "source": [
    "* http.client 모듈 사용 - PUT 방식 요청\n",
    "\n",
    "    * 요청 방식만 POST에서 PUT으로 변경되었고, 나머지는 동일\n",
    "    \n",
    "    \n",
    "cf) 이해하기 쉽게\n",
    "* POST는 Create(생성), PUT은 Update(수정)"
   ]
  },
  {
   "cell_type": "code",
   "execution_count": 22,
   "metadata": {},
   "outputs": [
    {
     "name": "stdout",
     "output_type": "stream",
     "text": [
      "200 OK\n",
      "<!DOCTYPE html>\n",
      "<html lang=\"ko\">\n",
      "\n",
      "\n",
      "\n",
      "<head>\n",
      "\n",
      "    <meta charset=\"utf-8\">\n",
      "    <meta http-equiv=\"X-UA-Compatible\" content=\"IE=edge\">\n",
      "    <meta name=\"viewport\" content=\"width=device-width, initial-scale=1\">\n",
      "\n",
      "    <title>ch2-test-server</title>\n",
      "\n",
      "    <link rel=\"stylesheet\" href=\"https://maxcdn.bootstrapcdn.\n"
     ]
    }
   ],
   "source": [
    "from http.client import HTTPConnection\n",
    "from urllib.parse import urlencode\n",
    "\n",
    "\n",
    "host = '127.0.0.1:8000'\n",
    "params = urlencode({\n",
    "    'language': 'python',\n",
    "    'name': '김석훈',\n",
    "    'email': 'shkim@naver.com',\n",
    "})\n",
    "headers = {\n",
    "    'Content-Type': 'application/x-www-form-urlencoded',\n",
    "    'Accept': 'text/plain',\n",
    "}\n",
    "\n",
    "conn = HTTPConnection(host)\n",
    "conn.request('PUT', '', params, headers)\n",
    "resp = conn.getresponse()\n",
    "print(resp.status, resp.reason)\n",
    "\n",
    "data = resp.read(300)\n",
    "print(data.decode('utf-8'))\n",
    "\n",
    "conn.close()\n"
   ]
  },
  {
   "cell_type": "markdown",
   "metadata": {},
   "source": [
    "### 2.2.5 http.client 모듈 예제"
   ]
  },
  {
   "cell_type": "code",
   "execution_count": 10,
   "metadata": {},
   "outputs": [
    {
     "name": "stdout",
     "output_type": "stream",
     "text": [
      "\n",
      ">>>>>>>>> Download Images from www.google.co.kr\n",
      "Downloading... http://www.google.co.kr/images/branding/googlelogo/1x/googlelogo_white_background_color_272x92dp.png\n",
      "Downloading... http://www.google.co.kr/textinputassistant/tia.png\n"
     ]
    }
   ],
   "source": [
    "import os\n",
    "from http.client import HTTPConnection\n",
    "from urllib.parse import urljoin, urlunparse\n",
    "from urllib.request import urlretrieve\n",
    "from html.parser import HTMLParser\n",
    "\n",
    "\n",
    "class ImageParser(HTMLParser):\n",
    "    def handle_starttag(self, tag, attrs):\n",
    "        if tag != 'img':\n",
    "            return\n",
    "        if not hasattr(self, 'result'):\n",
    "            self.result = []\n",
    "        for name, value in attrs:\n",
    "            if name == 'src':\n",
    "                self.result.append(value)\n",
    "\n",
    "\n",
    "def download_image(url, data):\n",
    "\n",
    "    if not os.path.exists('DOWNLOAD'):\n",
    "        os.makedirs('DOWNLOAD')\n",
    "\n",
    "    parser = ImageParser()\n",
    "    parser.feed(data)\n",
    "    dataSet = set(x for x in parser.result)\n",
    "\n",
    "    for x in sorted(dataSet) :\n",
    "        imageUrl = urljoin(url, x)\n",
    "        basename = os.path.basename(imageUrl)\n",
    "        targetFile = os.path.join('DOWNLOAD', basename)\n",
    "\n",
    "        print(\"Downloading...\", imageUrl)\n",
    "        urlretrieve(imageUrl, targetFile)\n",
    "\n",
    "\n",
    "def main():\n",
    "    host = \"www.google.co.kr\"\n",
    "\n",
    "    conn = HTTPConnection(host)\n",
    "    conn.request(\"GET\", '')\n",
    "    resp = conn.getresponse()\n",
    "\n",
    "    charset = resp.msg.get_param('charset')\n",
    "    data = resp.read().decode(charset)\n",
    "    conn.close()\n",
    "\n",
    "    print(\"\\n>>>>>>>>> Download Images from\", host)\n",
    "    url = urlunparse(('http', host, '', '', '', ''))\n",
    "    download_image(url, data)\n",
    "\n",
    "\n",
    "if __name__ == '__main__':\n",
    "    main()\n"
   ]
  },
  {
   "cell_type": "markdown",
   "metadata": {},
   "source": [
    " "
   ]
  },
  {
   "cell_type": "markdown",
   "metadata": {},
   "source": [
    " "
   ]
  },
  {
   "cell_type": "markdown",
   "metadata": {},
   "source": [
    " "
   ]
  },
  {
   "cell_type": "markdown",
   "metadata": {},
   "source": [
    " "
   ]
  },
  {
   "cell_type": "markdown",
   "metadata": {},
   "source": [
    " "
   ]
  },
  {
   "cell_type": "markdown",
   "metadata": {},
   "source": [
    " "
   ]
  },
  {
   "cell_type": "markdown",
   "metadata": {},
   "source": [
    " "
   ]
  },
  {
   "cell_type": "markdown",
   "metadata": {},
   "source": [
    " "
   ]
  },
  {
   "cell_type": "markdown",
   "metadata": {},
   "source": [
    "## 2.3 웹 서버 라이브러리\n",
    "\n",
    "* 웹 프로그래밍이라고 하면 보통은 서버쪽 프로그래밍으로 인식하는 경우가 많음\n",
    "    * 이러한 웹 서버 프로그램을 작성할 때는 개발자가 직접 파이썬 라이브러리를 사용해서 웹 서버를 개발하기보다는 웹 프레임워크를 사용해서 개발하는 경우가 대부분\n",
    "    \n",
    "    * 프레임워크 - 개발자가 웹 서버 프로그램을 개발하기 쉽도록 저수준의 기능을 이미 만들어 놓은 기반 프로그램으로, 웹 서버 개발자는 프레임워크를 활용하여 응용 로직만 개발하면 되기 때문에 효율적임\n",
    "    \n",
    "    \n",
    "\n",
    "\n",
    "\n",
    "\n",
    "\n",
    "\n",
    "### 2.3.1 간단한 웹 서버"
   ]
  },
  {
   "cell_type": "markdown",
   "metadata": {},
   "source": [
    "* 웹 서버의 역할은 http통신에서 클라이언트의 요청을 받고 이를 처리하여 그 결과를 되돌려 주는 것입니다.\n"
   ]
  },
  {
   "cell_type": "code",
   "execution_count": null,
   "metadata": {},
   "outputs": [
    {
     "name": "stdout",
     "output_type": "stream",
     "text": [
      "Started WebServer on port 8888...\n",
      "Press ^C to quit WebServer.\n"
     ]
    }
   ],
   "source": [
    "from http.server import HTTPServer, BaseHTTPRequestHandler\n",
    "\n",
    "\n",
    "# BaseHTTPRequestHandler를 상속받아, 원하는 로직으로 핸들러 클래스를 정의\n",
    "class MyHandler(BaseHTTPRequestHandler):\n",
    "    def do_GET(self):\n",
    "        self.send_response_only(200, 'OK')\n",
    "        self.send_header('Content-Type', 'text/plain')\n",
    "        self.end_headers()\n",
    "        self.wfile.write(b\"Hello World\")\n",
    "\n",
    "\n",
    "if __name__ == '__main__':\n",
    "    \n",
    "    # 서버의 IP, PORT 및 핸들러 클래스를 인자로 하여 HTTPServer 객체를 생성\n",
    "    server = HTTPServer(('', 8888), MyHandler)\n",
    "    print(\"Started WebServer on port 8888...\")\n",
    "    print(\"Press ^C to quit WebServer.\")\n",
    "    # HTTPServer 객체의 serve_forever() 메소드를 호출\n",
    "    server.serve_forever()\n"
   ]
  },
  {
   "cell_type": "markdown",
   "metadata": {},
   "source": [
    "---\n",
    "위의 예제는 코딩은 간단하지만, 반드시 알아두어야 할 중요한 사항이 있음\n",
    "\n",
    "* 웹 서버를 만드는 방법이 일정한 룰에 의해 작성\n",
    "    * 웹 서버를 만드는 가장 기본적인 방법을 정리"
   ]
  },
  {
   "cell_type": "markdown",
   "metadata": {},
   "source": [
    "---"
   ]
  },
  {
   "cell_type": "markdown",
   "metadata": {},
   "source": [
    "* 파이썬에서는 웹 서버를 만드는데 필요한 라이브러리를 http.server 모듈에서 정의하고 있습니다. \n",
    "\n",
    "    * 파이썬 2.x에서는 BaseHTTPServer, SimpleHTTPServer, CGIHTTPServer 3개의 모듈로 나눠져 있던 것을 파이썬 3.x에서는 하나로 합쳐졌습니다.\n",
    "\n"
   ]
  },
  {
   "cell_type": "markdown",
   "metadata": {},
   "source": [
    "![1](https://user-images.githubusercontent.com/39263586/68166162-d254c100-ffa4-11e9-9951-7ea943642238.PNG)\n"
   ]
  },
  {
   "cell_type": "markdown",
   "metadata": {},
   "source": [
    "### 2.3.2 HTTPServer 및 BaseHTTPRequestHandler 클래스"
   ]
  },
  {
   "cell_type": "markdown",
   "metadata": {},
   "source": [
    "* 원하는 웹 서버를 만들기 위해서는 기반 클래스를 임포트하거나 상속받아야 합니다. \n",
    "\n",
    "    * 이처럼 기반이 되는 클래스가 바로 **HTTPServer** 및 **BaseHTTPRequestHandler** 클래스 입니다.\n",
    "\n",
    "    * 기반 클래스에는 HTTP 프로토콜을 처리해주는 기능이 있어서, 기반 클래스를 상속받으면 따로 HTTP 프로토콜 관련된 로직을 코딩하지 않아도 됩니다. \n",
    "    * SimpleHTTPRequestHandler,  CGIHTTPRequestHandler 클래스가 이 기반 클래스를 상속받아 정의한 클래스 입니다."
   ]
  },
  {
   "attachments": {
    "ab18c7ab-080f-4bb5-93f7-c6fbdea2dad5.png": {
     "image/png": "[encoded data removed]"
    }
   },
   "cell_type": "markdown",
   "metadata": {},
   "source": [
    "![image.png](attachment:ab18c7ab-080f-4bb5-93f7-c6fbdea2dad5.png)"
   ]
  },
  {
   "attachments": {
    "34911c65-d7eb-4d65-86ac-b5a851dc0319.png": {
     "image/png": "[encoded data removed]"
    }
   },
   "cell_type": "markdown",
   "metadata": {},
   "source": [
    "![image.png](attachment:34911c65-d7eb-4d65-86ac-b5a851dc0319.png)"
   ]
  },
  {
   "cell_type": "markdown",
   "metadata": {},
   "source": [
    "### 2.3.3 SimpleHTTPRequestHandler"
   ]
  },
  {
   "cell_type": "markdown",
   "metadata": {},
   "source": [
    "* 앞 내용에서는 웹 서버를 만들기 위해 우리가 직접 MyHandler라는 자신의 핸들러를 코딩하였음\n",
    "\n",
    "* 반면에 별도의 코딩 없이도 필요할 때 즉시 웹 서버를 실행할 수 있도록 SimpleHTTPRequestHandler 클래스가 정의되어 있음\n",
    "\n",
    "\n",
    "    * 핸들러에서는 **do_GET(), do_HEAD()** 메소드가 정의되어 있어서 GET, HEAD 방식을 처리할 수 있음\n",
    "\n",
    "    * 그러나 POST등 그 이외의 HTTP 메소드는 처리 불가함"
   ]
  },
  {
   "attachments": {
    "d45bd236-f782-42af-aee2-a5ecce776587.png": {
     "image/png": "[encoded data removed]"
    }
   },
   "cell_type": "markdown",
   "metadata": {},
   "source": [
    "![image.png](attachment:d45bd236-f782-42af-aee2-a5ecce776587.png)"
   ]
  },
  {
   "cell_type": "markdown",
   "metadata": {},
   "source": [
    "웹 서버가 정상적으로 실행된다면, 8888 포트로 요청을 기다리고 있다는 메시지가 나타남"
   ]
  },
  {
   "cell_type": "code",
   "execution_count": null,
   "metadata": {},
   "outputs": [],
   "source": []
  },
  {
   "cell_type": "markdown",
   "metadata": {},
   "source": [
    "### 2.3.4 CGIHTTPRequestHandler 클래스"
   ]
  },
  {
   "cell_type": "markdown",
   "metadata": {},
   "source": [
    "* SimpleHTTPRequestHandler 클래스와 유사하게 CGIHTTPRequestHandler 클래스가 미리 구현되어 있어서 필요할 때 즉시 웹 서버를 실행할 수 있음\n",
    "\n",
    "* CGIHTTPRequestHandler\n",
    "    * do_POST() 메소드가 정의되어 있어서 POST 방식을 처리가능\n",
    "    * SimpleHTTPRequestHandler 클래스를 상속받고 있어서, GET, HEAD 방식도 처리 가능\n",
    "    \n",
    "    * 다만 do_POST()메소드는 CGI 처리 기능만 구현되어 있어서 모든 POST 방식을 처리할 수 있는 것은 아님"
   ]
  },
  {
   "attachments": {
    "3a4dcec1-5644-4b0c-896a-88f05a0cc102.png": {
     "image/png": "[encoded data removed]"
    }
   },
   "cell_type": "markdown",
   "metadata": {},
   "source": [
    "![image.png](attachment:3a4dcec1-5644-4b0c-896a-88f05a0cc102.png)"
   ]
  },
  {
   "cell_type": "markdown",
   "metadata": {},
   "source": [
    "---\n",
    "CGI 웹 서버가 CGI 스크립트를 정상적으로 처리하는지 확인하기 위해서는 2가지 준비 작업이 필요\n",
    "\n",
    "1. 서버에서 실행되는 스크립트 필요\n",
    "\n",
    "2. POST 방식으로 요청을 보낼 웹 클라이언트가 필요\n",
    "---\n",
    "\n",
    "CGI 웹 서버가 실행되는 창과는 다른 또 하나의 cmd 창을 열어서, 첫 번째로 CGI 스크립트를 코딩"
   ]
  },
  {
   "attachments": {
    "40d2f123-4fd9-4711-a615-dda96b4b8e0e.png": {
     "image/png": "[encoded data removed]"
    }
   },
   "cell_type": "markdown",
   "metadata": {},
   "source": [
    "![image.png](attachment:40d2f123-4fd9-4711-a615-dda96b4b8e0e.png)"
   ]
  },
  {
   "cell_type": "code",
   "execution_count": 5,
   "metadata": {},
   "outputs": [
    {
     "name": "stdout",
     "output_type": "stream",
     "text": [
      "Content-Type: text/plain\n",
      "\n",
      "Welcome... CGI Scripts\n",
      "name is None\n",
      "email is None\n",
      "url is None\n"
     ]
    }
   ],
   "source": [
    "import cgi\n",
    "\n",
    "\n",
    "form = cgi.FieldStorage()\n",
    "name = form.getvalue('name')\n",
    "email = form.getvalue('email')\n",
    "url = form.getvalue('url')\n",
    "\n",
    "print(\"Content-Type: text/plain\")\n",
    "print()\n",
    "\n",
    "print(\"Welcome... CGI Scripts\")\n",
    "print(\"name is\", name)\n",
    "print(\"email is\", email)\n",
    "print(\"url is\", url)\n"
   ]
  },
  {
   "cell_type": "code",
   "execution_count": 6,
   "metadata": {},
   "outputs": [
    {
     "name": "stdout",
     "output_type": "stream",
     "text": [
      "Welcome... CGI Scripts\n",
      "name is 김석훈\n",
      "email is shkim@naver.com\n",
      "url is http://www.naver.com\n",
      "\n"
     ]
    }
   ],
   "source": [
    "from urllib.request import urlopen\n",
    "from urllib.parse import urlencode\n",
    "\n",
    "\n",
    "url = \"http://127.0.0.1:8080/cgi-bin/script.py\"\n",
    "data = {\n",
    "    'name': '김석훈',\n",
    "    'email': 'shkim@naver.com',\n",
    "    'url': 'http://www.naver.com',\n",
    "}\n",
    "encData = urlencode(data)\n",
    "postData = encData.encode('ascii')\n",
    "\n",
    "f = urlopen(url, postData)   # POST\n",
    "print(f.read().decode('cp949'))\n"
   ]
  },
  {
   "cell_type": "markdown",
   "metadata": {},
   "source": [
    "## 2.3.5 xxxHTTPServer 모듈 간의 관계( 파이썬 2.x 버전만 해당) 생략함"
   ]
  }
 ],
 "metadata": {
  "kernelspec": {
   "display_name": "Python 3",
   "language": "python",
   "name": "python3"
  },
  "language_info": {
   "codemirror_mode": {
    "name": "ipython",
    "version": 3
   },
   "file_extension": ".py",
   "mimetype": "text/x-python",
   "name": "python",
   "nbconvert_exporter": "python",
   "pygments_lexer": "ipython3",
   "version": "3.8.3"
  }
 },
 "nbformat": 4,
 "nbformat_minor": 4
}
